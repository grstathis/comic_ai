{
 "cells": [
  {
   "cell_type": "code",
   "execution_count": 21,
   "id": "85ff9c81",
   "metadata": {},
   "outputs": [],
   "source": [
    "from matplotlib import pyplot as plt\n",
    "import sys\n",
    "from comicimagelib import *"
   ]
  },
  {
   "cell_type": "code",
   "execution_count": 22,
   "id": "624653c6",
   "metadata": {},
   "outputs": [],
   "source": [
    "mypath='image_input/'"
   ]
  },
  {
   "cell_type": "code",
   "execution_count": 23,
   "id": "cb797641",
   "metadata": {},
   "outputs": [],
   "source": [
    "from os import listdir\n",
    "from os.path import isfile, join\n",
    "onlyfiles = [f for f in listdir(mypath) if isfile(join(mypath, f))]"
   ]
  },
  {
   "cell_type": "code",
   "execution_count": 24,
   "id": "a6c16a58",
   "metadata": {},
   "outputs": [],
   "source": [
    "fname = onlyfiles[0]"
   ]
  },
  {
   "cell_type": "code",
   "execution_count": 26,
   "id": "dcbf86e5",
   "metadata": {},
   "outputs": [
    {
     "name": "stdout",
     "output_type": "stream",
     "text": [
      "image size: (3056, 1988, 3)\n",
      "[254 253 255]\n",
      "80 984\n",
      "background color: [252 252 255]\n",
      "3149977.0\n",
      "1488499.0\n",
      "1389149.0\n"
     ]
    },
    {
     "data": {
      "text/plain": [
       "True"
      ]
     },
     "execution_count": 26,
     "metadata": {},
     "output_type": "execute_result"
    }
   ],
   "source": [
    "img = cv2.imread(mypath+onlyfiles[0])\n",
    "print('image size:', img.shape)\n",
    "# check if image is black/white or color\n",
    "if is_grey_scale(img):\n",
    "    exit(\"black and white images not yet supported...\")\n",
    "\n",
    "res = image_color_clust(img, 4, True)\n",
    "bgcolor = get_background_color(res)\n",
    "print(\"background color:\", bgcolor)\n",
    "res[np.where((res == bgcolor).all(axis=2))] = [255,255,255]\n",
    "# cv2.floodFill(res, None, (res.shape[1]-1, res.shape[0]-1), (255, 255, 255), loDiff=(0, 0, 0, 0), upDiff=(0, 0, 0, 0))\n",
    "# cv2.floodFill(res, None, (0, 0), (255, 255, 255), loDiff=(0, 0, 0, 0), upDiff=(0, 0, 0, 0))\n",
    "cv2.imwrite('image_output/' + fname + '_no_bckground.jpg', res)\n",
    "gray = cv2.cvtColor(res, cv2.COLOR_BGR2GRAY)\n",
    "gray[:, (gray.shape[1] - 1)] = 255\n",
    "gray[:, 0] = 255\n",
    "gray[0, :] = 255\n",
    "gray[gray.shape[0]-1, :] = 255\n",
    "cv2.imwrite('image_output/'+ 'gray_' + fname, gray)\n",
    "ret, binary = cv2.threshold(gray, 254, 255, cv2.THRESH_BINARY)\n",
    "cv2.imwrite('image_output/' + 'binary_' + fname, binary)\n",
    "contours, hierarchy = cv2.findContours(binary, cv2.RETR_TREE, cv2.CHAIN_APPROX_SIMPLE)\n",
    "\n",
    "hierarchy = hierarchy[0] # get the actual inner list of hierarchy descriptions\n",
    "font = cv2.FONT_HERSHEY_COMPLEX\n",
    "area_lim = np.array(img).shape[0]*np.array(img).shape[1] // 100\n",
    "mask = np.zeros(img.shape[:2], dtype=\"uint8\") * 255\n",
    "\n",
    "panel_dict = {}\n",
    "# Get panels out of contours\n",
    "for i, component in enumerate(zip(contours, hierarchy)):\n",
    "    contour = component[0]\n",
    "    chier = component[1]\n",
    "    area = cv2.contourArea(contour)\n",
    "    if area < area_lim:\n",
    "        continue\n",
    "    if chier[3] < 0:\n",
    "        continue\n",
    "    # if area >= np.array(img).shape[0]*np.array(img).shape[1] - 10000:\n",
    "    #     continue\n",
    "    arclength = cv2.arcLength(contour, True)\n",
    "    epsilon = 0.01 * arclength\n",
    "    approx = cv2.approxPolyDP(contour, epsilon, True)\n",
    "\n",
    "    if len(approx) == 4:\n",
    "        x, y, w, h = cv2.boundingRect(approx)\n",
    "        panel_center = np.ceil(img.shape[1]*(y+y+h)/2 + (x+x+w)/2)\n",
    "        print(panel_center)\n",
    "        panel_dict[panel_center] = img[y:y+h, x:x+w].copy()\n",
    "        # cv2.putText(img, \"Rectangle\", (x, y), font, 2, (0))\n",
    "        # cv2.drawContours(mask, [contour], -1, 0, -1)\n",
    "        cv2.fillPoly(img, pts=[contour], color=(255, 255, 255))\n",
    "\n",
    "for i, key in enumerate(sorted(panel_dict.keys())):\n",
    "    cv2.imwrite('image_output/' + str(i) + fname,  panel_dict[key])\n",
    "\n",
    "cv2.imwrite('image_output/script1_residual.jpg', img)\n"
   ]
  },
  {
   "cell_type": "code",
   "execution_count": null,
   "id": "e7182654",
   "metadata": {},
   "outputs": [],
   "source": []
  }
 ],
 "metadata": {
  "kernelspec": {
   "display_name": "Python 3 (ipykernel)",
   "language": "python",
   "name": "python3"
  },
  "language_info": {
   "codemirror_mode": {
    "name": "ipython",
    "version": 3
   },
   "file_extension": ".py",
   "mimetype": "text/x-python",
   "name": "python",
   "nbconvert_exporter": "python",
   "pygments_lexer": "ipython3",
   "version": "3.9.11"
  }
 },
 "nbformat": 4,
 "nbformat_minor": 5
}
